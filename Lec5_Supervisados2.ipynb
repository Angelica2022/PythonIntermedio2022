{
  "nbformat": 4,
  "nbformat_minor": 0,
  "metadata": {
    "colab": {
      "name": "Lec5_SVM.ipynb",
      "provenance": [],
      "authorship_tag": "ABX9TyMmhHbSVO2KCwVFM+ETxwtM",
      "include_colab_link": true
    },
    "kernelspec": {
      "name": "python3",
      "display_name": "Python 3"
    },
    "language_info": {
      "name": "python"
    }
  },
  "cells": [
    {
      "cell_type": "markdown",
      "metadata": {
        "id": "view-in-github",
        "colab_type": "text"
      },
      "source": [
        "<a href=\"https://colab.research.google.com/github/pedrorotta/PythonIntermedio2022/blob/main/Lec5_Supervisados2.ipynb\" target=\"_parent\"><img src=\"https://colab.research.google.com/assets/colab-badge.svg\" alt=\"Open In Colab\"/></a>"
      ]
    },
    {
      "cell_type": "code",
      "execution_count": null,
      "metadata": {
        "id": "zFq6CLxlRTYW"
      },
      "outputs": [],
      "source": [
        "\"\"\"\n",
        "Implementa el SVM para el dataset Iris, usa un kernel lineal y un kernel polinomial\n",
        "\"\"\"\n",
        "\n",
        "\n"
      ]
    },
    {
      "cell_type": "markdown",
      "source": [
        "## Problema 2"
      ],
      "metadata": {
        "id": "we-thPR9g-kW"
      }
    },
    {
      "cell_type": "code",
      "source": [
        "\"\"\"\n",
        "Para la data load boston, implementa una regresión con RF\n",
        "\"\"\""
      ],
      "metadata": {
        "colab": {
          "base_uri": "https://localhost:8080/",
          "height": 35
        },
        "id": "nSkvZ2AkReKs",
        "outputId": "fa5a674b-2fed-4614-a8b8-47f726aa7e1c"
      },
      "execution_count": 1,
      "outputs": [
        {
          "output_type": "execute_result",
          "data": {
            "application/vnd.google.colaboratory.intrinsic+json": {
              "type": "string"
            },
            "text/plain": [
              "'\\nPara la data load boston, implementa una regresión con CART\\n'"
            ]
          },
          "metadata": {},
          "execution_count": 1
        }
      ]
    },
    {
      "cell_type": "code",
      "source": [
        "\"\"\"\n",
        "Para la data iris\n",
        "haz un modelo de SVM usando kernel radial, prueba con 3 diferentes gammas\n",
        "\"\"\""
      ],
      "metadata": {
        "colab": {
          "base_uri": "https://localhost:8080/",
          "height": 35
        },
        "id": "bVx8oPzFRedj",
        "outputId": "b0a3a410-f769-499c-9bca-ca9628e620fb"
      },
      "execution_count": 2,
      "outputs": [
        {
          "output_type": "execute_result",
          "data": {
            "application/vnd.google.colaboratory.intrinsic+json": {
              "type": "string"
            },
            "text/plain": [
              "'\\nPara la data iris\\nhaz un modelo de SVM usando kernel radial, prueba con 3 diferentes gammas\\n'"
            ]
          },
          "metadata": {},
          "execution_count": 2
        }
      ]
    },
    {
      "cell_type": "code",
      "source": [
        "\"\"\"\n",
        "Para load_boston implementa una comparativa entre SGD, CART y RF y verifica que modelo es más preciso\n",
        "\"\"\""
      ],
      "metadata": {
        "colab": {
          "base_uri": "https://localhost:8080/",
          "height": 35
        },
        "id": "lV49Nganu3UI",
        "outputId": "04532467-7332-4392-925b-cb55561ebd2c"
      },
      "execution_count": 3,
      "outputs": [
        {
          "output_type": "execute_result",
          "data": {
            "application/vnd.google.colaboratory.intrinsic+json": {
              "type": "string"
            },
            "text/plain": [
              "'\\nPara load_boston implementa una comparativa entre SGD, CART y RF y verifica que modelo es más preciso\\n'"
            ]
          },
          "metadata": {},
          "execution_count": 3
        }
      ]
    },
    {
      "cell_type": "code",
      "source": [
        ""
      ],
      "metadata": {
        "id": "eDXgGtvJvSi8"
      },
      "execution_count": null,
      "outputs": []
    }
  ]
}