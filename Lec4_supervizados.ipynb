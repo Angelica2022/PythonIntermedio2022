{
  "nbformat": 4,
  "nbformat_minor": 0,
  "metadata": {
    "colab": {
      "name": "Lec4_supervizados.ipynb",
      "provenance": [],
      "authorship_tag": "ABX9TyNhXnNwwc0vBxyeFGEOeQOZ",
      "include_colab_link": true
    },
    "kernelspec": {
      "name": "python3",
      "display_name": "Python 3"
    },
    "language_info": {
      "name": "python"
    }
  },
  "cells": [
    {
      "cell_type": "markdown",
      "metadata": {
        "id": "view-in-github",
        "colab_type": "text"
      },
      "source": [
        "<a href=\"https://colab.research.google.com/github/pedrorotta/PythonIntermedio2022/blob/main/Lec4_supervizados.ipynb\" target=\"_parent\"><img src=\"https://colab.research.google.com/assets/colab-badge.svg\" alt=\"Open In Colab\"/></a>"
      ]
    },
    {
      "cell_type": "markdown",
      "source": [
        "## Problema 1"
      ],
      "metadata": {
        "id": "9ARTv7zwmfEz"
      }
    },
    {
      "cell_type": "code",
      "execution_count": 1,
      "metadata": {
        "colab": {
          "base_uri": "https://localhost:8080/",
          "height": 35
        },
        "id": "9okT4_VnmamL",
        "outputId": "00a56894-5903-41c9-b72c-2160425e5aa3"
      },
      "outputs": [
        {
          "output_type": "execute_result",
          "data": {
            "application/vnd.google.colaboratory.intrinsic+json": {
              "type": "string"
            },
            "text/plain": [
              "'\\nDescribe un modelo de KNN vecinos para la data de casas en regresión\\n'"
            ]
          },
          "metadata": {},
          "execution_count": 1
        }
      ],
      "source": [
        "\"\"\"\n",
        "Describe un modelo de KNN vecinos para la data de casas en regresión\n",
        "\"\"\""
      ]
    },
    {
      "cell_type": "markdown",
      "source": [
        "## Problema 2"
      ],
      "metadata": {
        "id": "3MdyESASmnZp"
      }
    },
    {
      "cell_type": "code",
      "source": [
        "\"\"\"\n",
        "Compara Ridge vs lasso para la data de casas en regresion\n",
        "\"\"\""
      ],
      "metadata": {
        "colab": {
          "base_uri": "https://localhost:8080/",
          "height": 35
        },
        "id": "PXy2iBQhmmxQ",
        "outputId": "b686da41-9721-4f1e-f1df-80d686803ce2"
      },
      "execution_count": 2,
      "outputs": [
        {
          "output_type": "execute_result",
          "data": {
            "application/vnd.google.colaboratory.intrinsic+json": {
              "type": "string"
            },
            "text/plain": [
              "'\\nCompara Ridge vs lasso para la data de casas en regresion\\n'"
            ]
          },
          "metadata": {},
          "execution_count": 2
        }
      ]
    },
    {
      "cell_type": "markdown",
      "source": [
        "## Problema 3"
      ],
      "metadata": {
        "id": "8l-YuwL7o1Uq"
      }
    },
    {
      "cell_type": "code",
      "source": [
        "\"\"\"\n",
        "Para la data de clasificación binaria, implementa un regresor logístico.\n",
        "\"\"\""
      ],
      "metadata": {
        "colab": {
          "base_uri": "https://localhost:8080/",
          "height": 35
        },
        "id": "xnDHrsuFo0oc",
        "outputId": "4b75bb97-11c7-4dfb-d05b-e20f3ed125ea"
      },
      "execution_count": 3,
      "outputs": [
        {
          "output_type": "execute_result",
          "data": {
            "application/vnd.google.colaboratory.intrinsic+json": {
              "type": "string"
            },
            "text/plain": [
              "'\\nPara la data de clasificación binaria, implementa un regresor logístico.\\n'"
            ]
          },
          "metadata": {},
          "execution_count": 3
        }
      ]
    },
    {
      "cell_type": "code",
      "source": [
        "\"\"\"\n",
        "Para la dataset de load_boston de sklearn implementa un algoritmo con knn regresor\n",
        "\"\"\""
      ],
      "metadata": {
        "colab": {
          "base_uri": "https://localhost:8080/",
          "height": 35
        },
        "id": "8-eQ9Tzto9-s",
        "outputId": "7d99a22b-47ee-47e2-8002-79bcea35cc28"
      },
      "execution_count": 4,
      "outputs": [
        {
          "output_type": "execute_result",
          "data": {
            "application/vnd.google.colaboratory.intrinsic+json": {
              "type": "string"
            },
            "text/plain": [
              "'\\nPara la dataset de load_boston de sklearn implementa un algoritmo con knn regresor\\n'"
            ]
          },
          "metadata": {},
          "execution_count": 4
        }
      ]
    },
    {
      "cell_type": "code",
      "source": [
        "\"\"\"\n",
        "Para la dataset de load_boston compara el algoritmo de Ridge vs el Lasso \n",
        "\"\"\""
      ],
      "metadata": {
        "colab": {
          "base_uri": "https://localhost:8080/",
          "height": 35
        },
        "id": "0rYvIzPYpIhy",
        "outputId": "b400dfe1-32f4-495e-9d33-14c484dbe141"
      },
      "execution_count": 5,
      "outputs": [
        {
          "output_type": "execute_result",
          "data": {
            "application/vnd.google.colaboratory.intrinsic+json": {
              "type": "string"
            },
            "text/plain": [
              "'\\nPara la dataset de load_boston compara el algoritmo de Ridge vs el Lasso \\n'"
            ]
          },
          "metadata": {},
          "execution_count": 5
        }
      ]
    },
    {
      "cell_type": "code",
      "source": [
        "\"\"\"\n",
        "Para la dataset de iris usa un regresor logístico y compáralo con KNN\n",
        "\"\"\""
      ],
      "metadata": {
        "id": "V7yD2Nr1pOJP"
      },
      "execution_count": null,
      "outputs": []
    }
  ]
}