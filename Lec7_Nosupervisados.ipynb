{
  "nbformat": 4,
  "nbformat_minor": 0,
  "metadata": {
    "colab": {
      "name": "Lec7_Nosupervisados",
      "provenance": [],
      "authorship_tag": "ABX9TyO5kVvwvORBpRCPmkwV+/P1",
      "include_colab_link": true
    },
    "kernelspec": {
      "name": "python3",
      "display_name": "Python 3"
    },
    "language_info": {
      "name": "python"
    }
  },
  "cells": [
    {
      "cell_type": "markdown",
      "metadata": {
        "id": "view-in-github",
        "colab_type": "text"
      },
      "source": [
        "<a href=\"https://colab.research.google.com/github/pedrorotta/PythonIntermedio2022/blob/main/Lec7_Nosupervisados.ipynb\" target=\"_parent\"><img src=\"https://colab.research.google.com/assets/colab-badge.svg\" alt=\"Open In Colab\"/></a>"
      ]
    },
    {
      "cell_type": "markdown",
      "source": [
        "## Problema 1. "
      ],
      "metadata": {
        "id": "8uyPWd7fQKgK"
      }
    },
    {
      "cell_type": "code",
      "execution_count": 1,
      "metadata": {
        "colab": {
          "base_uri": "https://localhost:8080/",
          "height": 35
        },
        "id": "IxX6ZjvvO8r4",
        "outputId": "81d8b8fb-7f25-401f-eea7-e8d92e568dc6"
      },
      "outputs": [
        {
          "output_type": "execute_result",
          "data": {
            "application/vnd.google.colaboratory.intrinsic+json": {
              "type": "string"
            },
            "text/plain": [
              "'\\nDe la tabla breast cancer realiza un análisis de PCA\\n'"
            ]
          },
          "metadata": {},
          "execution_count": 1
        }
      ],
      "source": [
        "\"\"\"\n",
        "De la tabla breast cancer realiza un análisis de PCA\n",
        "\"\"\""
      ]
    },
    {
      "cell_type": "markdown",
      "source": [
        "## Problema 2"
      ],
      "metadata": {
        "id": "BnQbhvXYQTaa"
      }
    },
    {
      "cell_type": "code",
      "source": [
        "\"\"\"\n",
        "Realiza un método de Kmeans para la data de Mall_Customers\n",
        "\"\"\""
      ],
      "metadata": {
        "colab": {
          "base_uri": "https://localhost:8080/",
          "height": 35
        },
        "id": "KFL1ZIX5QSxN",
        "outputId": "20f74ed1-1c6d-407a-b4b8-8d22d5e3ac08"
      },
      "execution_count": 2,
      "outputs": [
        {
          "output_type": "execute_result",
          "data": {
            "application/vnd.google.colaboratory.intrinsic+json": {
              "type": "string"
            },
            "text/plain": [
              "'\\nRealiza un método de Kmeans para la data de Mall_Customers\\n'"
            ]
          },
          "metadata": {},
          "execution_count": 2
        }
      ]
    },
    {
      "cell_type": "code",
      "source": [
        "# Para el dataset iris, realiza un análisis de K-means"
      ],
      "metadata": {
        "id": "JCRH9peWQZdW"
      },
      "execution_count": 3,
      "outputs": []
    },
    {
      "cell_type": "code",
      "source": [
        "#Para el datasets make_blobs realiza un análisis de k_means"
      ],
      "metadata": {
        "id": "Mqed0CGlQlvD"
      },
      "execution_count": 4,
      "outputs": []
    },
    {
      "cell_type": "code",
      "source": [
        "#Para el dataset de sklearn load_breast_cancer realiza un análisis de PCA para n_dim = 2"
      ],
      "metadata": {
        "id": "JuTZUVROQvTS"
      },
      "execution_count": 5,
      "outputs": []
    },
    {
      "cell_type": "code",
      "source": [
        "#Compara el algoritmo SGB para clasificación con load_breast_cancer aplicando PCA para n_dim= 2 y sin PCA"
      ],
      "metadata": {
        "id": "VUQ_TkxsQ64I"
      },
      "execution_count": 6,
      "outputs": []
    },
    {
      "cell_type": "code",
      "source": [
        "#Para el dataset csv del github breast cancer, computariza el método de agrupación jerárquica y establece las etiquetas, para t = 3"
      ],
      "metadata": {
        "id": "IqHjLmQfRGFF"
      },
      "execution_count": 7,
      "outputs": []
    },
    {
      "cell_type": "code",
      "source": [
        ""
      ],
      "metadata": {
        "id": "cE1UFDBcRqkj"
      },
      "execution_count": null,
      "outputs": []
    }
  ]
}