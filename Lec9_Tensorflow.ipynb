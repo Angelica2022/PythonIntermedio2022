{
  "nbformat": 4,
  "nbformat_minor": 0,
  "metadata": {
    "colab": {
      "name": "Lec9_Tensorflow.ipynb",
      "provenance": [],
      "authorship_tag": "ABX9TyNgaWEHVBnHkUYffGs5wmGG",
      "include_colab_link": true
    },
    "kernelspec": {
      "name": "python3",
      "display_name": "Python 3"
    },
    "language_info": {
      "name": "python"
    }
  },
  "cells": [
    {
      "cell_type": "markdown",
      "metadata": {
        "id": "view-in-github",
        "colab_type": "text"
      },
      "source": [
        "<a href=\"https://colab.research.google.com/github/pedrorotta/PythonIntermedio2022/blob/main/Lec9_Tensorflow.ipynb\" target=\"_parent\"><img src=\"https://colab.research.google.com/assets/colab-badge.svg\" alt=\"Open In Colab\"/></a>"
      ]
    },
    {
      "cell_type": "markdown",
      "source": [
        "## Problema 1"
      ],
      "metadata": {
        "id": "Kgx5LS4DzZow"
      }
    },
    {
      "cell_type": "code",
      "execution_count": 2,
      "metadata": {
        "colab": {
          "base_uri": "https://localhost:8080/",
          "height": 36
        },
        "id": "wWpwt_YVzQf_",
        "outputId": "d6f20be1-8db1-46d9-d20c-e5b2492c09eb"
      },
      "outputs": [
        {
          "output_type": "execute_result",
          "data": {
            "application/vnd.google.colaboratory.intrinsic+json": {
              "type": "string"
            },
            "text/plain": [
              "'\\nDescribe un modelo de regresión lineal simple para la data de casas\\n'"
            ]
          },
          "metadata": {},
          "execution_count": 2
        }
      ],
      "source": [
        "\"\"\"\n",
        "Describe un modelo de regresión lineal simple para la data de casas\n",
        "\"\"\""
      ]
    },
    {
      "cell_type": "code",
      "source": [
        "\"\"\"\n",
        "Describe un modelo de regresión lineal múltiple para la data de casas\n",
        "\"\"\""
      ],
      "metadata": {
        "id": "UU2l0KNUzgPu"
      },
      "execution_count": null,
      "outputs": []
    },
    {
      "cell_type": "markdown",
      "source": [
        "## Problema 2"
      ],
      "metadata": {
        "id": "DEWLevkR0Ro-"
      }
    },
    {
      "cell_type": "code",
      "source": [
        "\"\"\"\n",
        "Describe un modelo de clasificación para breast cancer\n",
        "\"\"\""
      ],
      "metadata": {
        "colab": {
          "base_uri": "https://localhost:8080/",
          "height": 36
        },
        "id": "r_V2HSQ30RVB",
        "outputId": "5dee4755-f86b-4381-8c94-9a6d2189ef99"
      },
      "execution_count": 3,
      "outputs": [
        {
          "output_type": "execute_result",
          "data": {
            "application/vnd.google.colaboratory.intrinsic+json": {
              "type": "string"
            },
            "text/plain": [
              "'\\nDescribe un modelo de clasificación para breast cancer\\n'"
            ]
          },
          "metadata": {},
          "execution_count": 3
        }
      ]
    },
    {
      "cell_type": "markdown",
      "source": [
        "## Problema 3"
      ],
      "metadata": {
        "id": "Y2zJKPVN0YCJ"
      }
    },
    {
      "cell_type": "code",
      "source": [
        "\"\"\"\n",
        "Describe la gráfica del modelo anterior\n",
        "\"\"\""
      ],
      "metadata": {
        "colab": {
          "base_uri": "https://localhost:8080/",
          "height": 36
        },
        "id": "LGcFlgnE0Xb9",
        "outputId": "4e48facd-9ad2-4bf0-fe70-5412af212cc3"
      },
      "execution_count": 4,
      "outputs": [
        {
          "output_type": "execute_result",
          "data": {
            "application/vnd.google.colaboratory.intrinsic+json": {
              "type": "string"
            },
            "text/plain": [
              "'\\nDescribe la gráfica del modelo anterior\\n'"
            ]
          },
          "metadata": {},
          "execution_count": 4
        }
      ]
    },
    {
      "cell_type": "markdown",
      "source": [
        "## Problema 4"
      ],
      "metadata": {
        "id": "g5ywKQy20eat"
      }
    },
    {
      "cell_type": "code",
      "source": [
        "\"\"\"\n",
        "Para un segundo modelo, gráfica la función de costo\n",
        "\"\"\""
      ],
      "metadata": {
        "id": "HdkeHEBd0d-7"
      },
      "execution_count": null,
      "outputs": []
    },
    {
      "cell_type": "markdown",
      "source": [
        "## Problema 5"
      ],
      "metadata": {
        "id": "1l3qSdaK08kX"
      }
    },
    {
      "cell_type": "code",
      "source": [
        "\"\"\"\n",
        "Reduce a 1D una imagen\n",
        "\"\"\""
      ],
      "metadata": {
        "colab": {
          "base_uri": "https://localhost:8080/",
          "height": 36
        },
        "id": "VxXf-b_q0-y6",
        "outputId": "b488d3b8-6407-4553-ce0c-c84c659e55b4"
      },
      "execution_count": 5,
      "outputs": [
        {
          "output_type": "execute_result",
          "data": {
            "application/vnd.google.colaboratory.intrinsic+json": {
              "type": "string"
            },
            "text/plain": [
              "'\\nReduce a 1D una imagen\\n'"
            ]
          },
          "metadata": {},
          "execution_count": 5
        }
      ]
    },
    {
      "cell_type": "code",
      "source": [
        "# Define un modelo de regresión simple para la data de casas"
      ],
      "metadata": {
        "id": "srZlhDZk1EbN"
      },
      "execution_count": 6,
      "outputs": []
    },
    {
      "cell_type": "code",
      "source": [
        "# Define un modelo de clasificación con deep learning para la data iris"
      ],
      "metadata": {
        "id": "N8tIDgWN1IUV"
      },
      "execution_count": 7,
      "outputs": []
    },
    {
      "cell_type": "code",
      "source": [
        "# Define una imagen de un modelo para breast cancer"
      ],
      "metadata": {
        "id": "L0dK9gXl1M8a"
      },
      "execution_count": 8,
      "outputs": []
    },
    {
      "cell_type": "code",
      "source": [
        "# Define una imagen y has una disminución de sus valores a 1D"
      ],
      "metadata": {
        "id": "d1qg0DYF1RQt"
      },
      "execution_count": 9,
      "outputs": []
    },
    {
      "cell_type": "code",
      "source": [
        "#"
      ],
      "metadata": {
        "id": "vAVfquuI1XjR"
      },
      "execution_count": null,
      "outputs": []
    }
  ]
}