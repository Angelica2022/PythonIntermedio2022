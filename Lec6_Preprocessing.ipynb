{
  "nbformat": 4,
  "nbformat_minor": 0,
  "metadata": {
    "colab": {
      "name": "Lec6_Preprocessing.ipynb",
      "provenance": [],
      "authorship_tag": "ABX9TyNI10AbQqWIwwgpBqmNPcNR",
      "include_colab_link": true
    },
    "kernelspec": {
      "name": "python3",
      "display_name": "Python 3"
    },
    "language_info": {
      "name": "python"
    }
  },
  "cells": [
    {
      "cell_type": "markdown",
      "metadata": {
        "id": "view-in-github",
        "colab_type": "text"
      },
      "source": [
        "<a href=\"https://colab.research.google.com/github/pedrorotta/PythonIntermedio2022/blob/main/Lec6_Preprocessing.ipynb\" target=\"_parent\"><img src=\"https://colab.research.google.com/assets/colab-badge.svg\" alt=\"Open In Colab\"/></a>"
      ]
    },
    {
      "cell_type": "markdown",
      "source": [
        "## Problema 1"
      ],
      "metadata": {
        "id": "87kCUc3k4TyI"
      }
    },
    {
      "cell_type": "code",
      "execution_count": null,
      "metadata": {
        "id": "wELINCnDzhCF"
      },
      "outputs": [],
      "source": [
        "#Para la data de breast cancer, realice standarización"
      ]
    },
    {
      "cell_type": "markdown",
      "source": [
        "## Problema 2"
      ],
      "metadata": {
        "id": "rzaBBp5z4Zil"
      }
    },
    {
      "cell_type": "code",
      "source": [
        "# Para la data de breast cancer, realice scalarization"
      ],
      "metadata": {
        "id": "NbDzBQvh4aby"
      },
      "execution_count": 1,
      "outputs": []
    },
    {
      "cell_type": "markdown",
      "source": [
        "## Problema 3"
      ],
      "metadata": {
        "id": "hDT5TXiJ4fIN"
      }
    },
    {
      "cell_type": "code",
      "source": [
        "# Para la data de movies realice normalization"
      ],
      "metadata": {
        "id": "t27mVGc-4eeN"
      },
      "execution_count": 2,
      "outputs": []
    },
    {
      "cell_type": "markdown",
      "source": [
        "## Problema 4"
      ],
      "metadata": {
        "id": "5CAeWBdF4pMw"
      }
    },
    {
      "cell_type": "code",
      "source": [
        "# Para la data de wine realice binarization"
      ],
      "metadata": {
        "id": "JXesVbzy4omq"
      },
      "execution_count": 3,
      "outputs": []
    },
    {
      "cell_type": "markdown",
      "source": [
        "## Problema 5"
      ],
      "metadata": {
        "id": "EmUINe804uLy"
      }
    },
    {
      "cell_type": "code",
      "source": [
        "# Para la data de hotencoding realice hot encoding"
      ],
      "metadata": {
        "id": "SyPinyyO4tj-"
      },
      "execution_count": 4,
      "outputs": []
    },
    {
      "cell_type": "markdown",
      "source": [
        "## Problema 6"
      ],
      "metadata": {
        "id": "HAOgZWny5Jh2"
      }
    },
    {
      "cell_type": "code",
      "source": [
        "\"\"\"\n",
        "Para la data: \n",
        "[[5,np.nan,8],[9,3,5],[8,6,4],\n",
        " [np.nan,5,2],[2,3,9],[np.nan,8,7],\n",
        " [1,np.nan,5]])\n",
        "Gener sus valores\n",
        "\"\"\""
      ],
      "metadata": {
        "id": "Dy472P595I5w"
      },
      "execution_count": null,
      "outputs": []
    },
    {
      "cell_type": "code",
      "source": [
        "#Para wine genere binarization"
      ],
      "metadata": {
        "id": "PhlfbgsH5Ytm"
      },
      "execution_count": 5,
      "outputs": []
    },
    {
      "cell_type": "code",
      "source": [
        "# Para ramen rating genere binarization"
      ],
      "metadata": {
        "id": "qjQfXf-D5bOe"
      },
      "execution_count": 6,
      "outputs": []
    },
    {
      "cell_type": "code",
      "source": [
        "#compare normalización y standarización para breast cancer"
      ],
      "metadata": {
        "id": "yxfU1I-d5eyS"
      },
      "execution_count": 7,
      "outputs": []
    },
    {
      "cell_type": "code",
      "source": [
        "#Realice labeling en breast cancer"
      ],
      "metadata": {
        "id": "ilOakncz5jgc"
      },
      "execution_count": 8,
      "outputs": []
    },
    {
      "cell_type": "code",
      "source": [
        "# Realice normalización para la data de app"
      ],
      "metadata": {
        "id": "SdaaG6d65mS_"
      },
      "execution_count": 9,
      "outputs": []
    },
    {
      "cell_type": "code",
      "source": [
        "# Realice hot encoding para la data de melbornhouse"
      ],
      "metadata": {
        "id": "TpPtBYSc5og1"
      },
      "execution_count": 10,
      "outputs": []
    }
  ]
}